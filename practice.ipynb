{
 "cells": [
  {
   "cell_type": "code",
   "execution_count": 1,
   "metadata": {},
   "outputs": [],
   "source": [
    "import os ,uuid "
   ]
  },
  {
   "cell_type": "code",
   "execution_count": 26,
   "metadata": {},
   "outputs": [
    {
     "data": {
      "text/plain": [
       "'image_path\\\\label.4dbb0db6-5c62-11ef-9f4f-00410e2c03dc.jpg'"
      ]
     },
     "execution_count": 26,
     "metadata": {},
     "output_type": "execute_result"
    }
   ],
   "source": [
    "# os.path.join('ABC'+\"PRW\")\n",
    "os.path.join('ABC' , \".\" + f'{str(uuid.uuid1())}' + '.jpg')\n",
    "# os.path.join('ABC' + \".\" + str(uuid.uuid1()) + '.jpg')\n",
    "# os.path.join(f\"ABC\")\n",
    "os.path.join('image_path' , 'label' + f'.{uuid.uuid1()}.jpg')"
   ]
  },
  {
   "cell_type": "code",
   "execution_count": 19,
   "metadata": {},
   "outputs": [
    {
     "name": "stdout",
     "output_type": "stream",
     "text": [
      "Abc Pramodvishal\n"
     ]
    }
   ],
   "source": [
    "print('Abc {}{}'.format('Pramod' ,'vishal'))"
   ]
  },
  {
   "cell_type": "code",
   "execution_count": 14,
   "metadata": {},
   "outputs": [
    {
     "data": {
      "text/plain": [
       "'ABV\\\\PQR\\\\.c41cfda0-5c60-11ef-9136-00410e2c03dc.jpg'"
      ]
     },
     "execution_count": 14,
     "metadata": {},
     "output_type": "execute_result"
    }
   ],
   "source": [
    "os.path.join('ABV' , \"PQR\" + '.'+'{}.jpg'.format(str(uuid.uuid1())))"
   ]
  },
  {
   "cell_type": "code",
   "execution_count": 1,
   "metadata": {},
   "outputs": [
    {
     "name": "stdout",
     "output_type": "stream",
     "text": [
      "Copied Hello.7c732d48-5c66-11ef-b90a-00410e2c03dc.jpg to D:\\Data Science\\ComputerVision\\AmericanSignDetection_Yolov5\\test_images\n",
      "Copied Hello.7db232be-5c66-11ef-979a-00410e2c03dc.jpg to D:\\Data Science\\ComputerVision\\AmericanSignDetection_Yolov5\\test_images\n",
      "Copied Hello.7ee84856-5c66-11ef-b4a7-00410e2c03dc.jpg to D:\\Data Science\\ComputerVision\\AmericanSignDetection_Yolov5\\test_images\n",
      "Copied Hello.80206de9-5c66-11ef-ad4a-00410e2c03dc.jpg to D:\\Data Science\\ComputerVision\\AmericanSignDetection_Yolov5\\test_images\n",
      "Copied Hello.8155ed85-5c66-11ef-bd24-00410e2c03dc.jpg to D:\\Data Science\\ComputerVision\\AmericanSignDetection_Yolov5\\test_images\n",
      "Copied I love you.a617701d-5c66-11ef-99ea-00410e2c03dc.jpg to D:\\Data Science\\ComputerVision\\AmericanSignDetection_Yolov5\\test_images\n",
      "Copied I love you.a74f4320-5c66-11ef-903c-00410e2c03dc.jpg to D:\\Data Science\\ComputerVision\\AmericanSignDetection_Yolov5\\test_images\n",
      "Copied I love you.a8841198-5c66-11ef-bd86-00410e2c03dc.jpg to D:\\Data Science\\ComputerVision\\AmericanSignDetection_Yolov5\\test_images\n",
      "Copied I love you.a9bb6366-5c66-11ef-a619-00410e2c03dc.jpg to D:\\Data Science\\ComputerVision\\AmericanSignDetection_Yolov5\\test_images\n",
      "Copied I love you.aaf433fa-5c66-11ef-9d73-00410e2c03dc.jpg to D:\\Data Science\\ComputerVision\\AmericanSignDetection_Yolov5\\test_images\n",
      "Copied No.913db32a-5c66-11ef-a539-00410e2c03dc.jpg to D:\\Data Science\\ComputerVision\\AmericanSignDetection_Yolov5\\test_images\n",
      "Copied No.927432fc-5c66-11ef-89ff-00410e2c03dc.jpg to D:\\Data Science\\ComputerVision\\AmericanSignDetection_Yolov5\\test_images\n",
      "Copied No.93ad0110-5c66-11ef-b481-00410e2c03dc.jpg to D:\\Data Science\\ComputerVision\\AmericanSignDetection_Yolov5\\test_images\n",
      "Copied No.94e3a3c4-5c66-11ef-8317-00410e2c03dc.jpg to D:\\Data Science\\ComputerVision\\AmericanSignDetection_Yolov5\\test_images\n",
      "Copied No.961a375c-5c66-11ef-86e8-00410e2c03dc.jpg to D:\\Data Science\\ComputerVision\\AmericanSignDetection_Yolov5\\test_images\n",
      "Copied Please.b0856f71-5c66-11ef-9ec9-00410e2c03dc.jpg to D:\\Data Science\\ComputerVision\\AmericanSignDetection_Yolov5\\test_images\n",
      "Copied Please.b1ba819d-5c66-11ef-b0b8-00410e2c03dc.jpg to D:\\Data Science\\ComputerVision\\AmericanSignDetection_Yolov5\\test_images\n",
      "Copied Please.b2f2cced-5c66-11ef-82ee-00410e2c03dc.jpg to D:\\Data Science\\ComputerVision\\AmericanSignDetection_Yolov5\\test_images\n",
      "Copied Please.b4293ea7-5c66-11ef-adaf-00410e2c03dc.jpg to D:\\Data Science\\ComputerVision\\AmericanSignDetection_Yolov5\\test_images\n",
      "Copied Please.b5602278-5c66-11ef-96e6-00410e2c03dc.jpg to D:\\Data Science\\ComputerVision\\AmericanSignDetection_Yolov5\\test_images\n",
      "Copied Thanks.9ba987ed-5c66-11ef-80e5-00410e2c03dc.jpg to D:\\Data Science\\ComputerVision\\AmericanSignDetection_Yolov5\\test_images\n",
      "Copied Thanks.9cdf1eb8-5c66-11ef-8612-00410e2c03dc.jpg to D:\\Data Science\\ComputerVision\\AmericanSignDetection_Yolov5\\test_images\n",
      "Copied Thanks.9e15d627-5c66-11ef-9fc7-00410e2c03dc.jpg to D:\\Data Science\\ComputerVision\\AmericanSignDetection_Yolov5\\test_images\n",
      "Copied Thanks.9f4cec78-5c66-11ef-b958-00410e2c03dc.jpg to D:\\Data Science\\ComputerVision\\AmericanSignDetection_Yolov5\\test_images\n",
      "Copied Thanks.a084862b-5c66-11ef-a4fe-00410e2c03dc.jpg to D:\\Data Science\\ComputerVision\\AmericanSignDetection_Yolov5\\test_images\n",
      "Copied Yes.86de9d65-5c66-11ef-ba29-00410e2c03dc.jpg to D:\\Data Science\\ComputerVision\\AmericanSignDetection_Yolov5\\test_images\n",
      "Copied Yes.88155e21-5c66-11ef-af46-00410e2c03dc.jpg to D:\\Data Science\\ComputerVision\\AmericanSignDetection_Yolov5\\test_images\n",
      "Copied Yes.894cc5e4-5c66-11ef-941f-00410e2c03dc.jpg to D:\\Data Science\\ComputerVision\\AmericanSignDetection_Yolov5\\test_images\n",
      "Copied Yes.8a838c81-5c66-11ef-8c72-00410e2c03dc.jpg to D:\\Data Science\\ComputerVision\\AmericanSignDetection_Yolov5\\test_images\n",
      "Copied Yes.8bbb7559-5c66-11ef-8519-00410e2c03dc.jpg to D:\\Data Science\\ComputerVision\\AmericanSignDetection_Yolov5\\test_images\n",
      "All images have been copied.\n"
     ]
    }
   ],
   "source": [
    "import os\n",
    "import shutil\n",
    "\n",
    "# Define the source folder containing the subfolders\n",
    "source_folder = r'D:\\Data Science\\ComputerVision\\AmericanSignDetection_Yolov5\\Collected-images'\n",
    "\n",
    "# Define the destination folder where images will be copied\n",
    "destination_folder = r'D:\\Data Science\\ComputerVision\\AmericanSignDetection_Yolov5\\test_images'\n",
    "\n",
    "# Ensure the destination folder exists\n",
    "os.makedirs(destination_folder, exist_ok=True)\n",
    "\n",
    "# Iterate through each subfolder in the source folder\n",
    "for subfolder in os.listdir(source_folder):\n",
    "    subfolder_path = os.path.join(source_folder, subfolder)\n",
    "    \n",
    "    # Check if it's a directory\n",
    "    if os.path.isdir(subfolder_path):\n",
    "        # Iterate through each file in the subfolder\n",
    "        for file_name in os.listdir(subfolder_path):\n",
    "            file_path = os.path.join(subfolder_path, file_name)\n",
    "            \n",
    "            # Check if the file is an image (optional, based on file extension)\n",
    "            if file_name.lower().endswith(('.png', '.jpg', '.jpeg', '.bmp', '.gif')):\n",
    "                # Copy the image to the destination folder\n",
    "                shutil.copy(file_path, destination_folder)\n",
    "                print(f\"Copied {file_name} to {destination_folder}\")\n",
    "\n",
    "print(\"All images have been copied.\")\n"
   ]
  }
 ],
 "metadata": {
  "kernelspec": {
   "display_name": "venv",
   "language": "python",
   "name": "python3"
  },
  "language_info": {
   "codemirror_mode": {
    "name": "ipython",
    "version": 3
   },
   "file_extension": ".py",
   "mimetype": "text/x-python",
   "name": "python",
   "nbconvert_exporter": "python",
   "pygments_lexer": "ipython3",
   "version": "3.10.0"
  }
 },
 "nbformat": 4,
 "nbformat_minor": 2
}
